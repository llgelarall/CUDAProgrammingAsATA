{
  "cells": [
    {
      "cell_type": "markdown",
      "metadata": {
        "id": "view-in-github",
        "colab_type": "text"
      },
      "source": [
        "<a href=\"https://colab.research.google.com/github/llgelarall/CUDAProgrammingAsATA/blob/main/How%20to%20install%20CUDA%2BOpenCV.ipynb\" target=\"_parent\"><img src=\"https://colab.research.google.com/assets/colab-badge.svg\" alt=\"Open In Colab\"/></a>"
      ]
    },
    {
      "cell_type": "markdown",
      "metadata": {
        "id": "VaJyx2xC6eNS"
      },
      "source": [
        "# 1. CUDA Installation in Colab:"
      ]
    },
    {
      "cell_type": "code",
      "execution_count": null,
      "metadata": {
        "id": "hmymg8Agqyjj"
      },
      "outputs": [],
      "source": [
        "!python --version\n",
        "!nvcc --version\n",
        "!pip install nvcc4jupyter\n",
        "%load_ext nvcc4jupyter\n",
        "!nvidia-smi\n",
        "!nvcc --version"
      ]
    },
    {
      "cell_type": "markdown",
      "metadata": {
        "id": "Mq_AiCsF9zGu"
      },
      "source": [
        "A sample cuda code"
      ]
    },
    {
      "cell_type": "code",
      "execution_count": null,
      "metadata": {
        "id": "Lz2KX6Bd96cl"
      },
      "outputs": [],
      "source": [
        "%%cuda\n",
        "#include <stdio.h>\n",
        "__global__ void hello(){\n",
        " printf(\"Hello from block: %u, thread: %u\\n\", blockIdx.x, threadIdx.x);\n",
        "}\n",
        "int main(){\n",
        " hello<<<2, 2>>>();\n",
        " cudaDeviceSynchronize();\n",
        "}"
      ]
    },
    {
      "cell_type": "markdown",
      "metadata": {
        "id": "Aqo9DaAk6ogS"
      },
      "source": [
        "\n",
        "# 2.**OpenCV installation in Colab for CUDA programming**\n",
        "---\n",
        "\n"
      ]
    },
    {
      "cell_type": "markdown",
      "metadata": {
        "id": "TTQDUs-d7Jks"
      },
      "source": [
        "**2.1 Requirements Installation**\n",
        "\n",
        "---\n",
        "\n",
        "\n"
      ]
    },
    {
      "cell_type": "code",
      "execution_count": null,
      "metadata": {
        "id": "En8Orc_v1ocf"
      },
      "outputs": [],
      "source": [
        "!apt update && apt install -y cmake g++ wget unzip\n",
        "!apt install -y libgtk2.0-dev"
      ]
    },
    {
      "cell_type": "markdown",
      "metadata": {
        "id": "W6ezRnTW7AaU"
      },
      "source": []
    },
    {
      "cell_type": "markdown",
      "metadata": {
        "id": "378CPzsc7Tvn"
      },
      "source": [
        "2.2 By executing the commands OpenCV will be downloaded\n",
        "\n",
        "---\n",
        "\n"
      ]
    },
    {
      "cell_type": "code",
      "execution_count": null,
      "metadata": {
        "id": "EXj5qkbn1qqH"
      },
      "outputs": [],
      "source": [
        "!wget -O opencv.zip https://github.com/opencv/opencv/archive/4.5.2.zip\n",
        "!wget -O opencv_contrib.zip https://github.com/opencv/opencv_contrib/archive/4.5.2.zip\n",
        "!unzip opencv.zip\n",
        "!unzip opencv_contrib.zip"
      ]
    },
    {
      "cell_type": "markdown",
      "metadata": {
        "id": "YJV0kpUP7zOp"
      },
      "source": [
        "2.3 cmake is going to build the opencv in customized folder\n",
        "\n",
        "---\n",
        "\n"
      ]
    },
    {
      "cell_type": "code",
      "execution_count": null,
      "metadata": {
        "colab": {
          "background_save": true
        },
        "id": "5fq41MnI1tT7"
      },
      "outputs": [],
      "source": [
        "!mkdir /content/opencv-4.5.2/build\n",
        "%cd /content/opencv-4.5.2\n",
        "\n",
        "!cmake -D CMAKE_BUILD_TYPE=RELEASE \\-D CMAKE_INSTALL_PREFIX=/usr/local \\-D INSTALL_PYTHON_EXAMPLES=ON \\-D INSTALL_C_EXAMPLES=OFF \\-D OPENCV_ENABLE_NONFREE=ON \\-D WITH_CUDA=ON \\-D WITH_CUDNN=ON \\-D OPENCV_DNN_CUDA=ON \\-D ENABLE_FAST_MATH=1 \\-D CUDA_FAST_MATH=1 \\-D CUDA_ARCH_BIN=7.5\n",
        "\n",
        "!make -j8\n",
        "!make install\n"
      ]
    },
    {
      "cell_type": "markdown",
      "metadata": {
        "id": "bObulDrM8IC8"
      },
      "source": [
        "**2.4 to test the openCd installation**\n",
        "\n",
        "---\n",
        "\n"
      ]
    },
    {
      "cell_type": "code",
      "execution_count": null,
      "metadata": {
        "colab": {
          "background_save": true
        },
        "id": "llF3tpJ-3ASV",
        "outputId": "21b70f65-9ba6-4094-e40b-e9d8d69439aa"
      },
      "outputs": [
        {
          "name": "stdout",
          "output_type": "stream",
          "text": [
            "4.8.0\n"
          ]
        }
      ],
      "source": [
        "import sys\n",
        "sys.path.append('/usr/local/lib/python3.6/site-packages/cv2/python-3.6')\n",
        "\n",
        "import cv2\n",
        "print(cv2.__version__)\n"
      ]
    },
    {
      "cell_type": "markdown",
      "metadata": {
        "id": "TppDKtir8Tyf"
      },
      "source": [
        "**2.5 create a new cuda file (*.cu), For instance, \"main.cu\" in the main root (/content)and then copy your cuda code.**\n",
        "\n",
        "\n",
        "---\n",
        "\n"
      ]
    },
    {
      "cell_type": "code",
      "execution_count": null,
      "metadata": {
        "colab": {
          "background_save": true
        },
        "id": "L9J2bckz3qcg"
      },
      "outputs": [],
      "source": [
        "%%cuda\n",
        "#include <opencv2/opencv.hpp>\n",
        "#include <opencv2/core/cuda.hpp>\n",
        "#include <iostream>\n",
        "\n",
        "using namespace std;\n",
        "using namespace cv;\n",
        "using namespace cv::cuda;\n",
        "\n",
        "__global__ void rgb2grayKernel(uchar3 *input, uchar *output, int width, int height) {\n",
        "    int x = blockIdx.x * blockDim.x + threadIdx.x;\n",
        "    int y = blockIdx.y * blockDim.y + threadIdx.y;\n",
        "    if (x < width && y < height) {\n",
        "        uchar3 rgb = input[y * width + x];\n",
        "        output[y * width + x] = (uchar)(0.299f * rgb.x + 0.587f * rgb.y + 0.114f * rgb.z);\n",
        "    }\n",
        "}\n",
        "\n",
        "void rgb2gray(const Mat& input, Mat& output) {\n",
        "    int width = input.cols;\n",
        "    int height = input.rows;\n",
        "\n",
        "    // Allocate device memory\n",
        "    uchar3 *d_input;\n",
        "    uchar *d_output;\n",
        "    cudaMalloc(&d_input, sizeof(uchar3) * width * height);\n",
        "    cudaMalloc(&d_output, sizeof(uchar) * width * height);\n",
        "\n",
        "    // Copy data from OpenCV input image to device memory\n",
        "    cudaMemcpy(d_input, input.ptr(), sizeof(uchar3) * width * height, cudaMemcpyHostToDevice);\n",
        "\n",
        "    // Kernel configuration\n",
        "    dim3 blockSize(16, 16);\n",
        "    dim3 gridSize((width + blockSize.x - 1) / blockSize.x, (height + blockSize.y - 1) / blockSize.y);\n",
        "\n",
        "    // Launch the kernel\n",
        "    rgb2grayKernel<<<gridSize, blockSize>>>(d_input, d_output, width, height);\n",
        "\n",
        "    // Copy the processed data back to the output image\n",
        "    cudaMemcpy(output.ptr(), d_output, sizeof(uchar) * width * height, cudaMemcpyDeviceToHost);\n",
        "\n",
        "    // Free device memory\n",
        "    cudaFree(d_input);\n",
        "    cudaFree(d_output);\n",
        "}\n",
        "\n",
        "int main() {\n",
        "    try {\n",
        "        // Read the image file\n",
        "        Mat h_img = imread(\"input.jpg\");\n",
        "        if (h_img.empty()) {\n",
        "            cerr << \"Error loading image file.\" << endl;\n",
        "            return 1;\n",
        "        }\n",
        "\n",
        "        // Convert the image from BGR to RGB (OpenCV uses BGR by default)\n",
        "        Mat h_img_rgb;\n",
        "        cvtColor(h_img, h_img_rgb, COLOR_BGR2RGB);\n",
        "\n",
        "        // Create an output image (grayscale)\n",
        "        Mat h_img_gray(h_img.rows, h_img.cols, CV_8UC1);\n",
        "\n",
        "        // Convert RGB to Grayscale using CUDA\n",
        "        rgb2gray(h_img_rgb, h_img_gray);\n",
        "\n",
        "        // Show the result\n",
        "        imshow(\"Original Image\", h_img);\n",
        "        imshow(\"Grayscale Image\", h_img_gray);\n",
        "        waitKey(0);\n",
        "    } catch (const exception& e) {\n",
        "        cerr << \"Error: \" << e.what() << endl;\n",
        "        return 1;\n",
        "    }\n",
        "\n",
        "    return 0;\n",
        "}\n"
      ]
    },
    {
      "cell_type": "markdown",
      "metadata": {
        "id": "_-Ej2WK98uHq"
      },
      "source": []
    },
    {
      "cell_type": "markdown",
      "metadata": {
        "id": "p9ftnwBs88KI"
      },
      "source": [
        "**2.6 to ensure the OpenCV is successfully installed **\n",
        "\n",
        "---\n",
        "\n"
      ]
    },
    {
      "cell_type": "code",
      "execution_count": null,
      "metadata": {
        "colab": {
          "background_save": true
        },
        "id": "3mirVBio36jv"
      },
      "outputs": [],
      "source": [
        "!pkg-config --modversion opencv4"
      ]
    },
    {
      "cell_type": "markdown",
      "metadata": {
        "id": "hdYToW0T9GEv"
      },
      "source": [
        "**2.7 (optional) if you are not in the main root (/content) run these commands**\n",
        "\n",
        "---\n",
        "\n"
      ]
    },
    {
      "cell_type": "code",
      "execution_count": null,
      "metadata": {
        "colab": {
          "background_save": true
        },
        "id": "sCEtOXNi4TDw"
      },
      "outputs": [],
      "source": [
        "%cd ..\n",
        "!ls"
      ]
    },
    {
      "cell_type": "markdown",
      "metadata": {
        "id": "t-AZDphi9Q9h"
      },
      "source": [
        "**2.8 Compile and Execute your code**\n",
        "\n",
        "---\n",
        "\n"
      ]
    },
    {
      "cell_type": "code",
      "execution_count": null,
      "metadata": {
        "colab": {
          "background_save": true
        },
        "id": "cYPfvlHP4QcO"
      },
      "outputs": [],
      "source": [
        "!nvcc main.cu -o rgb2gray_app `pkg-config --cflags --libs opencv4`"
      ]
    },
    {
      "cell_type": "markdown",
      "metadata": {
        "id": "1K-pDTna9qT_"
      },
      "source": [
        "**2.9 Run the executable created**\n",
        "\n",
        "---\n",
        "\n"
      ]
    },
    {
      "cell_type": "code",
      "execution_count": null,
      "metadata": {
        "colab": {
          "background_save": true
        },
        "id": "UvYeOUQP4hC5"
      },
      "outputs": [],
      "source": [
        "!./rgb2gray_app"
      ]
    }
  ],
  "metadata": {
    "accelerator": "GPU",
    "colab": {
      "gpuType": "T4",
      "provenance": [],
      "authorship_tag": "ABX9TyNusAXdX1ZcL5R7/w8LYdte",
      "include_colab_link": true
    },
    "kernelspec": {
      "display_name": "Python 3",
      "name": "python3"
    },
    "language_info": {
      "name": "python"
    }
  },
  "nbformat": 4,
  "nbformat_minor": 0
}
